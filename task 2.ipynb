{
 "cells": [
  {
   "cell_type": "code",
   "execution_count": null,
   "id": "e9fa94c9",
   "metadata": {},
   "outputs": [],
   "source": [
    "# Why are apple processors better and how could the rest be better?"
   ]
  },
  {
   "cell_type": "markdown",
   "id": "a0e74104",
   "metadata": {},
   "source": [
    "CISC : The main idea behind CISC processors is that a single instruction can be used to do all of the loading, evaluating and storing operations. The goal of the CISC approach is to minimise the number of instructions per programme. However, that increases the number of cycles per instruction such as Intel & AMD.\n",
    "\n",
    "RISC : The primary goal of RISC processors is to make hardware simpler by using an instruction set that’s composed of a few basic steps for loading, evaluating and storing operations. It’s not necessarily about having fewer instructions, it’s more about how those instructions are used. That reduces the number of cycles per instruction but comes at the cost of increasing the number of instructions per program such as Apple Silicon & ARM.\n",
    "\n",
    "The purpose of both RISC and CISC architectures is to increase CPU performance. In general, RISC is seen by many as an improvement over CISC. This is because having a less complex set of instructions makes CPU design easier, cheaper, and faster.\n",
    "\n",
    "The main difference between RISC and CISC architecture is that RISC-based devices execute one instruction per clock cycle. In a CISC processor, each instruction performs several actions that take several clock cycles to complete. in the RISC .\n",
    "\n",
    "\n",
    "RISC                           ////                                         CISC\n",
    "\n",
    "Emphasis on software          ////                                  Emphasis on hardware\n",
    "\n",
    "Small number of instructions   ////                             Large number of instructions\n",
    "\n",
    "Simple, standardised instructions  ////                      Complex, variable-length instructions\n",
    "\n",
    "Single clock cycle instructions        ////                  Instructions can take several clock cycles\n",
    "\n",
    "Heavy use of RAM                      /////                            More efficient use of RAM\n",
    "\n",
    "\n",
    "\n",
    "\n",
    "No architect is better than another. Each has  advantages and barriers, making it more suitable for certain scenarios."
   ]
  },
  {
   "cell_type": "markdown",
   "id": "30c737fe",
   "metadata": {},
   "source": [
    "# Using tabulation in recursion "
   ]
  },
  {
   "cell_type": "markdown",
   "id": "11279e24",
   "metadata": {},
   "source": [
    "We use tabulation to not do the same calculation over and over again.\n",
    "Many recursively defined functions specify redundant computations in the values of subfunctions that can be evaluated more than once. This can be implemented through a tabulation  which the function values are calculated at most once and then stored for later use.\n",
    "An advantage of tabulation is that it is used as a way to get rid of recursion through various programming examples."
   ]
  },
  {
   "cell_type": "markdown",
   "id": "6f1ff959",
   "metadata": {},
   "source": [
    "# Difference between stack and heap "
   ]
  },
  {
   "cell_type": "markdown",
   "id": "3daf4fd8",
   "metadata": {},
   "source": [
    "A stack is a linear data structure, special area of computer’s memory which stores temporary variables created by a function. In stack, variables are declared, stored and initialized during runtime .\n",
    "It is a temporary storage memory. When the computing task is complete, the memory of the variable will be automatically erased.\n",
    "--Advantage of stack :\n",
    "  *Helps you to manage the data in a Last In First Out(LIFO) .//\n",
    "  *It allows you to control how memory is allocated and deallocated.//\n",
    "  *Stack automatically cleans up the object.//\n",
    "  *Variables cannot be resized.\n",
    "\n",
    "The heap is a hierarchical data structure . a memory used by programming languages to store global variables , all global variable are stored in heap memory space. It supports Dynamic memory allocation. The heap is not managed automatically for you and is not as tightly managed by the CPU. It is more like a free-floating region of memory.\n",
    " -Advantage of heap :\n",
    "  *Heap helps you to find the greatest and minimum number .//\n",
    "  *Heap method also used in the Priority  Queue.//\n",
    "  *It allows you to access variables globally.//\n",
    "  *Heap doesn’t have any limit on memory size.\n",
    "\n",
    "\n"
   ]
  },
  {
   "cell_type": "code",
   "execution_count": null,
   "id": "8c4cb500",
   "metadata": {},
   "outputs": [],
   "source": []
  },
  {
   "cell_type": "code",
   "execution_count": null,
   "id": "5b67078b",
   "metadata": {},
   "outputs": [],
   "source": []
  },
  {
   "cell_type": "code",
   "execution_count": null,
   "id": "9678eca7",
   "metadata": {},
   "outputs": [],
   "source": []
  }
 ],
 "metadata": {
  "kernelspec": {
   "display_name": "Python 3 (ipykernel)",
   "language": "python",
   "name": "python3"
  },
  "language_info": {
   "codemirror_mode": {
    "name": "ipython",
    "version": 3
   },
   "file_extension": ".py",
   "mimetype": "text/x-python",
   "name": "python",
   "nbconvert_exporter": "python",
   "pygments_lexer": "ipython3",
   "version": "3.9.7"
  }
 },
 "nbformat": 4,
 "nbformat_minor": 5
}
